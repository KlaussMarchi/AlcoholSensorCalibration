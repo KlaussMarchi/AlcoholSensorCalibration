{
 "cells": [
  {
   "cell_type": "code",
   "execution_count": 42,
   "metadata": {},
   "outputs": [],
   "source": [
    "import pandas as pd\n",
    "import requests\n",
    "from datetime import datetime"
   ]
  },
  {
   "cell_type": "code",
   "execution_count": 43,
   "metadata": {},
   "outputs": [
    {
     "data": {
      "text/html": [
       "<div>\n",
       "<style scoped>\n",
       "    .dataframe tbody tr th:only-of-type {\n",
       "        vertical-align: middle;\n",
       "    }\n",
       "\n",
       "    .dataframe tbody tr th {\n",
       "        vertical-align: top;\n",
       "    }\n",
       "\n",
       "    .dataframe thead th {\n",
       "        text-align: right;\n",
       "    }\n",
       "</style>\n",
       "<table border=\"1\" class=\"dataframe\">\n",
       "  <thead>\n",
       "    <tr style=\"text-align: right;\">\n",
       "      <th></th>\n",
       "      <th>id</th>\n",
       "      <th>analog</th>\n",
       "      <th>mgl</th>\n",
       "    </tr>\n",
       "  </thead>\n",
       "  <tbody>\n",
       "    <tr>\n",
       "      <th>0</th>\n",
       "      <td>ETL7037009852791407</td>\n",
       "      <td>25019</td>\n",
       "      <td>0</td>\n",
       "    </tr>\n",
       "    <tr>\n",
       "      <th>1</th>\n",
       "      <td>ETL7037009852791407</td>\n",
       "      <td>25547</td>\n",
       "      <td>0</td>\n",
       "    </tr>\n",
       "    <tr>\n",
       "      <th>2</th>\n",
       "      <td>ETL7037009852791407</td>\n",
       "      <td>25200</td>\n",
       "      <td>0</td>\n",
       "    </tr>\n",
       "    <tr>\n",
       "      <th>3</th>\n",
       "      <td>ETL7023816672941404</td>\n",
       "      <td>24740</td>\n",
       "      <td>0</td>\n",
       "    </tr>\n",
       "    <tr>\n",
       "      <th>4</th>\n",
       "      <td>ETL7023816672941404</td>\n",
       "      <td>25503</td>\n",
       "      <td>0</td>\n",
       "    </tr>\n",
       "  </tbody>\n",
       "</table>\n",
       "</div>"
      ],
      "text/plain": [
       "                    id  analog  mgl\n",
       "0  ETL7037009852791407   25019    0\n",
       "1  ETL7037009852791407   25547    0\n",
       "2  ETL7037009852791407   25200    0\n",
       "3  ETL7023816672941404   24740    0\n",
       "4  ETL7023816672941404   25503    0"
      ]
     },
     "execution_count": 43,
     "metadata": {},
     "output_type": "execute_result"
    }
   ],
   "source": [
    "df = pd.read_excel('NewData.xlsx')\n",
    "df.head()"
   ]
  },
  {
   "cell_type": "code",
   "execution_count": 44,
   "metadata": {},
   "outputs": [
    {
     "data": {
      "text/plain": [
       "'2024-08-01 12:25:24'"
      ]
     },
     "execution_count": 44,
     "metadata": {},
     "output_type": "execute_result"
    }
   ],
   "source": [
    "now = datetime.now().strftime('%Y-%m-%d %H:%M:%S')\n",
    "now"
   ]
  },
  {
   "cell_type": "code",
   "execution_count": 45,
   "metadata": {},
   "outputs": [
    {
     "data": {
      "text/plain": [
       "[{'sensor_id': 'ETL7037009852791407',\n",
       "  'analog': 25019,\n",
       "  'mgl': 0,\n",
       "  'timestamp': '2024-08-01 12:25:24'},\n",
       " {'sensor_id': 'ETL7037009852791407',\n",
       "  'analog': 25547,\n",
       "  'mgl': 0,\n",
       "  'timestamp': '2024-08-01 12:25:24'},\n",
       " {'sensor_id': 'ETL7037009852791407',\n",
       "  'analog': 25200,\n",
       "  'mgl': 0,\n",
       "  'timestamp': '2024-08-01 12:25:24'},\n",
       " {'sensor_id': 'ETL7023816672941404',\n",
       "  'analog': 24740,\n",
       "  'mgl': 0,\n",
       "  'timestamp': '2024-08-01 12:25:24'},\n",
       " {'sensor_id': 'ETL7023816672941404',\n",
       "  'analog': 25503,\n",
       "  'mgl': 0,\n",
       "  'timestamp': '2024-08-01 12:25:24'},\n",
       " {'sensor_id': 'ETL7023816672941404',\n",
       "  'analog': 25967,\n",
       "  'mgl': 0,\n",
       "  'timestamp': '2024-08-01 12:25:24'},\n",
       " {'sensor_id': 'ETL4329349511828661',\n",
       "  'analog': 29131,\n",
       "  'mgl': 0,\n",
       "  'timestamp': '2024-08-01 12:25:24'},\n",
       " {'sensor_id': 'ETL4329349511828661',\n",
       "  'analog': 29202,\n",
       "  'mgl': 0,\n",
       "  'timestamp': '2024-08-01 12:25:24'},\n",
       " {'sensor_id': 'ETL4329349511828661',\n",
       "  'analog': 29299,\n",
       "  'mgl': 0,\n",
       "  'timestamp': '2024-08-01 12:25:24'}]"
      ]
     },
     "execution_count": 45,
     "metadata": {},
     "output_type": "execute_result"
    }
   ],
   "source": [
    "list = []\n",
    "\n",
    "for i in range(len(df)):\n",
    "    row = df.iloc[i].to_dict()\n",
    "    \n",
    "    list.append({\n",
    "        'sensor_id': row['id'],\n",
    "        'analog': row['analog'],\n",
    "        'mgl': row['mgl'],\n",
    "        'timestamp': now\n",
    "    })\n",
    "\n",
    "list"
   ]
  },
  {
   "cell_type": "code",
   "execution_count": 46,
   "metadata": {},
   "outputs": [
    {
     "data": {
      "text/plain": [
       "'[{\"sensor_id\": \"ETL7037009852791407\", \"analog\": 25019, \"mgl\": 0, \"timestamp\": \"2024-08-01 12:25:24\"}, {\"sensor_id\": \"ETL7037009852791407\", \"analog\": 25547, \"mgl\": 0, \"timestamp\": \"2024-08-01 12:25:24\"}, {\"sensor_id\": \"ETL7037009852791407\", \"analog\": 25200, \"mgl\": 0, \"timestamp\": \"2024-08-01 12:25:24\"}, {\"sensor_id\": \"ETL7023816672941404\", \"analog\": 24740, \"mgl\": 0, \"timestamp\": \"2024-08-01 12:25:24\"}, {\"sensor_id\": \"ETL7023816672941404\", \"analog\": 25503, \"mgl\": 0, \"timestamp\": \"2024-08-01 12:25:24\"}, {\"sensor_id\": \"ETL7023816672941404\", \"analog\": 25967, \"mgl\": 0, \"timestamp\": \"2024-08-01 12:25:24\"}, {\"sensor_id\": \"ETL4329349511828661\", \"analog\": 29131, \"mgl\": 0, \"timestamp\": \"2024-08-01 12:25:24\"}, {\"sensor_id\": \"ETL4329349511828661\", \"analog\": 29202, \"mgl\": 0, \"timestamp\": \"2024-08-01 12:25:24\"}, {\"sensor_id\": \"ETL4329349511828661\", \"analog\": 29299, \"mgl\": 0, \"timestamp\": \"2024-08-01 12:25:24\"}]'"
      ]
     },
     "execution_count": 46,
     "metadata": {},
     "output_type": "execute_result"
    }
   ],
   "source": [
    "import json\n",
    "json.dumps(list)"
   ]
  },
  {
   "cell_type": "code",
   "execution_count": 47,
   "metadata": {},
   "outputs": [
    {
     "data": {
      "text/plain": [
       "<Response [200]>"
      ]
     },
     "execution_count": 47,
     "metadata": {},
     "output_type": "execute_result"
    }
   ],
   "source": [
    "response = requests.post('https://sighir.com:8000/addSensors/', json.dumps(list), timeout=50)\n",
    "response"
   ]
  },
  {
   "cell_type": "code",
   "execution_count": 48,
   "metadata": {},
   "outputs": [
    {
     "data": {
      "text/plain": [
       "{'status': 'success', 'data': 'data inserted'}"
      ]
     },
     "execution_count": 48,
     "metadata": {},
     "output_type": "execute_result"
    }
   ],
   "source": [
    "response.json()"
   ]
  }
 ],
 "metadata": {
  "kernelspec": {
   "display_name": "Python 3",
   "language": "python",
   "name": "python3"
  },
  "language_info": {
   "codemirror_mode": {
    "name": "ipython",
    "version": 3
   },
   "file_extension": ".py",
   "mimetype": "text/x-python",
   "name": "python",
   "nbconvert_exporter": "python",
   "pygments_lexer": "ipython3",
   "version": "3.11.4"
  }
 },
 "nbformat": 4,
 "nbformat_minor": 2
}
